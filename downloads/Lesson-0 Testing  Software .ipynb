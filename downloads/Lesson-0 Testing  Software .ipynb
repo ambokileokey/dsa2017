{
 "cells": [
  {
   "cell_type": "markdown",
   "metadata": {},
   "source": [
    "## Data Science Africa 2017 - Prerequisite software\n",
    "\n",
    "The [Data Science Africa 2017 summer school](http://www.datascienceafrica.org/dsa2017/) will mainly cover the broad areas of Machine Learing and Data Science. This is the third summer school on data science following the previous ones held at Makere in Kampala in 2016 and Dedan Kimathi University of Technology in 2015.\n",
    "\n",
    "To ensure we hit the ground running, it is essential you install the prerequiste software and test it out and make sure it is working on your computer. The venue for the summer school will have some computers on which the software will have been installed but you are advised to come with your own laptop with the software installed. \n",
    "\n",
    "Luckily all the software required has already been prepackaged in a bundle called [Anaconda](https://www.continuum.io/downloads). You can download the various versions of the software for your laptop OS and architecture from the [Anaconda website](https://www.continuum.io/downloads). Please download **python 3.x**, the notebooks may not work with python 2!"
   ]
  },
  {
   "cell_type": "markdown",
   "metadata": {},
   "source": [
    "### Testing the software\n",
    "If you installed the Anaconda software properly, you should be reading this :-). If you are reading this on a colleagues machine who got it installed then you are advised to ask your colleague who owns this machine how he/she did it.\n",
    "\n",
    "We will be mainly using the jupyter notebook for the lab sessions, please get familiar with using the notebook. To ensure everything is working please follow the instructions that follow and run the corresponding commands. The goal state is to have no errors at the end of this process."
   ]
  },
  {
   "cell_type": "markdown",
   "metadata": {},
   "source": [
    "### Reading in data using Pandas\n",
    "[Pandas](http://pandas.pydata.org) is a Python library that is particularly good for doing any data-related tasks in Python. We will use several other libraries in Python as well. You are adviced to go through the [scipy-lectures (sections 1.1 - 1.4 and 3.1)](http://www.scipy-lectures.org) to get a good grounding in the libraries we will be using.\n",
    "\n",
    "To test that everything is working fine:\n",
    "1. Go to the website and download the [Production of major crops by district, UCA 2008 / 2009](http://catalog.data.ug/dataset/production-of-major-crops-by-district-uca-2008-2009) data. It includes excel sheets for the 4 regions of Uganda detailing in each production figures for major crops.\n",
    "2. Use Pandas to read in the first sheet of data from the excel document as shown below\n",
    "3. Work through some of the example analyses shown and complete the questions that follow.\n",
    "4. Go get a cold beer, drink 3/4 of it and inform a friend that you are now ready for the data science summer school 2017 !"
   ]
  },
  {
   "cell_type": "code",
   "execution_count": null,
   "metadata": {},
   "outputs": [],
   "source": [
    "# Import the relevant libraries to this notebook\n",
    "%matplotlib inline\n",
    "import pandas as pd\n",
    "import matplotlib.pyplot as plt\n",
    "import seaborn as sns"
   ]
  },
  {
   "cell_type": "code",
   "execution_count": null,
   "metadata": {},
   "outputs": [],
   "source": [
    "datafilename = \"productionmajorcropsregio20082009.xls\" # this file must be in your path\n",
    "\n",
    "# Read in data skipping some rows at the top and the last row at the bottom that has the sub-totals\n",
    "data = pd.read_excel(datafilename, sheet=\"CENTRAL\", skiprows=2, skip_footer=1, thousands=',') \n",
    "data.head() # show the first 5 rows of the data. try data.head(20)"
   ]
  },
  {
   "cell_type": "code",
   "execution_count": null,
   "metadata": {},
   "outputs": [],
   "source": [
    "# You can select a sub dataset\n",
    "data_maize_cassava = data[['District', 'Maize', 'Cassava']]\n",
    "data_maize_cassava.head()"
   ]
  },
  {
   "cell_type": "code",
   "execution_count": null,
   "metadata": {},
   "outputs": [],
   "source": [
    "# Get  total maize production for central region\n",
    "# First remove the last row with t\n",
    "print(\"Maize production for Central region is {} Metric tonnes\".format(data['Maize'].astype('float32').sum()))"
   ]
  },
  {
   "cell_type": "code",
   "execution_count": null,
   "metadata": {},
   "outputs": [],
   "source": [
    "# Plot cassava production by district\n",
    "data.plot(x='District', y='Cassava', kind='bar')"
   ]
  },
  {
   "cell_type": "markdown",
   "metadata": {},
   "source": [
    "### For you to do"
   ]
  },
  {
   "cell_type": "code",
   "execution_count": null,
   "metadata": {
    "collapsed": true
   },
   "outputs": [],
   "source": [
    "# Write your code to complete the following functions\n",
    "\n",
    "def read_allregionsdata(datafilename):\n",
    "    # Read in all the data from the different regions\n",
    "    # from the excel sheet \"datafilename\"\n",
    "    \n",
    "    # WRITE YOUR CODE HERE\n",
    "    data_central = 0\n",
    "    data_eastern = 0\n",
    "    data_northern = 0\n",
    "    data_western = 0\n",
    "    \n",
    "    return data_central, data_eastern, data_northern, data_western\n",
    "\n",
    "def get_total_sp_eastern(data_eastern):\n",
    "    # Get the total tonnage of Sweet potatoes from the Eastern region\n",
    "    \n",
    "    # WRITE YOUR CODE HERE (AND REPLACE THE DEFAULT VALUE FOR total_sp..)\n",
    "    total_sp = 0\n",
    "    \n",
    "    return total_sp\n",
    "    \n",
    "def get_max_prod_western(data_western):\n",
    "    # Get the maximum production of Finger millet in the western region\n",
    "    # This is not the total production but the maximum production of a district\n",
    "    \n",
    "    # WRITE YOUR CODE HERE\n",
    "    max_prod = 0\n",
    "    \n",
    "    return max_prod\n",
    "\n",
    "def get_dist_max_prod_western(data_western):\n",
    "    # Get the district with the maximum production of Finger millet in the western region\n",
    "    \n",
    "    # WRITE YOUR CODE HERE\n",
    "    max_prod_dist = \"\"\n",
    "    \n",
    "    return max_prod_dist\n",
    "\n"
   ]
  },
  {
   "cell_type": "code",
   "execution_count": null,
   "metadata": {},
   "outputs": [],
   "source": [
    "# Testing...\n",
    "data_central, data_eastern, data_northern, data_western = read_allregionsdata(datafilename)\n",
    "assert get_total_sp_eastern(data_eastern) == 312405.0, \"Sorry wrong answer, minus 1 beer :-(\"\n",
    "assert get_max_prod_western(data_western) == 9674.0, \"Answer feels wrong, this is the western region we are talking about\"\n",
    "assert get_dist_max_prod_western(data_western).strip() == \"Nakasongola\", \"Naah, that district was abolished last year !\"\n",
    "print(\"Congratulations, all is working just fine !!!\")"
   ]
  },
  {
   "cell_type": "markdown",
   "metadata": {},
   "source": [
    "### Extra Bonus questions (in some instances \"bonus\" can be replaced with \"beer\")"
   ]
  },
  {
   "cell_type": "code",
   "execution_count": null,
   "metadata": {
    "collapsed": true
   },
   "outputs": [],
   "source": [
    "def combine_alldatasets(data_central, data_western, data_eastern, data_northern):\n",
    "    # Combine all the regional datasets into one national dataset\n",
    "    \n",
    "    # WRITE YOUR CODE HERE\n",
    "    nationalData = 0\n",
    "    \n",
    "    return nationalData\n",
    "\n",
    "def get_total_national_cassava_prod(nationalData):\n",
    "    # Attempt this after the previous question\n",
    "    # Get the total national production for cassava (tons) for 2008-2009\n",
    "    \n",
    "    # WRITE YOUR CODE HERE\n",
    "    total_cassava = 0\n",
    "    \n",
    "    return total_cassava"
   ]
  },
  {
   "cell_type": "code",
   "execution_count": null,
   "metadata": {},
   "outputs": [],
   "source": [
    "d = combine_alldatasets(data_central, data_western, data_eastern, data_northern)\n",
    "assert get_total_national_cassava_prod(d) == 1.63924e+06, \"Comeon man, cassava is a big deal - much more than that !\"\n",
    "print(\"Congratulations, you get 2-tickets to beerville; all you can drink :-)\")"
   ]
  }
 ],
 "metadata": {
  "kernelspec": {
   "display_name": "Python 3",
   "language": "python",
   "name": "python3"
  },
  "language_info": {
   "codemirror_mode": {
    "name": "ipython",
    "version": 3
   },
   "file_extension": ".py",
   "mimetype": "text/x-python",
   "name": "python",
   "nbconvert_exporter": "python",
   "pygments_lexer": "ipython3",
   "version": "3.6.1"
  }
 },
 "nbformat": 4,
 "nbformat_minor": 1
}
